{
 "cells": [
  {
   "cell_type": "markdown",
   "id": "7fa86492-f9e3-4aff-b86a-7d11886f4562",
   "metadata": {},
   "source": [
    "## Homework - module 1 - EDA Analysis"
   ]
  },
  {
   "cell_type": "code",
   "execution_count": 1,
   "id": "0c34fe4a-6da7-4b4b-bf36-6b5d692087c8",
   "metadata": {},
   "outputs": [],
   "source": [
    "import pandas as pd\n",
    "import warnings\n",
    "\n",
    "from sklearn.linear_model import LinearRegression\n",
    "from sklearn.metrics import mean_squared_error\n",
    "from sklearn.feature_extraction import DictVectorizer"
   ]
  },
  {
   "cell_type": "code",
   "execution_count": null,
   "id": "89817374-57fc-4726-b4b8-70a993f09685",
   "metadata": {},
   "outputs": [],
   "source": [
    "warnings.filterwarnings(\"ignore\")\n",
    "\n",
    "path_to_january_data = \"./data/fhv_tripdata_2021-01.parquet\"\n",
    "path_to_february_data = \"./data/fhv_tripdata_2021-02.parquet\""
   ]
  },
  {
   "cell_type": "markdown",
   "id": "3aff3107-f59b-448d-97b2-84c4b5c348b6",
   "metadata": {},
   "source": [
    "## Q1 - Downloading Data "
   ]
  },
  {
   "cell_type": "code",
   "execution_count": 2,
   "id": "4c8c8322-65ca-43f7-900c-1731d6a076e8",
   "metadata": {},
   "outputs": [
    {
     "name": "stdout",
     "output_type": "stream",
     "text": [
      "(1154112, 7)\n"
     ]
    }
   ],
   "source": [
    "df_january = pd.read_parquet(path_to_january_data, engine='pyarrow')\n",
    "print(df_january.shape)\n",
    "df_january.head()"
   ]
  },
  {
   "cell_type": "markdown",
   "id": "4654147f-867c-4080-9a35-c0716f761930",
   "metadata": {},
   "source": [
    "### Compute duration "
   ]
  },
  {
   "cell_type": "code",
   "execution_count": 4,
   "id": "1f3973b7-371c-4d62-b42b-05d47de67f8d",
   "metadata": {},
   "outputs": [
    {
     "name": "stdout",
     "output_type": "stream",
     "text": [
      "average trip duration: 19.167224093791006\n"
     ]
    }
   ],
   "source": [
    "df_january[\"duration\"] = df_january.dropOff_datetime - df_january.pickup_datetime\n",
    "df_january[\"duration\"] = df_january[\"duration\"].apply( lambda x: x.total_seconds() / 60)\n",
    "print(\"average trip duration:\", df_january[\"duration\"].mean()) "
   ]
  },
  {
   "cell_type": "markdown",
   "id": "db5b2aa7-0ea1-4ea5-bbfd-65696aad3c86",
   "metadata": {},
   "source": [
    "## Data preparation"
   ]
  },
  {
   "cell_type": "code",
   "execution_count": 5,
   "id": "995f4879-630f-4f4d-bd85-80492f053832",
   "metadata": {},
   "outputs": [
    {
     "data": {
      "text/plain": [
       "count    1.154112e+06\n",
       "mean     1.916722e+01\n",
       "std      3.986922e+02\n",
       "min      1.666667e-02\n",
       "25%      7.766667e+00\n",
       "50%      1.340000e+01\n",
       "75%      2.228333e+01\n",
       "max      4.233710e+05\n",
       "Name: duration, dtype: float64"
      ]
     },
     "execution_count": 5,
     "metadata": {},
     "output_type": "execute_result"
    }
   ],
   "source": [
    "df_january[\"duration\"].describe()"
   ]
  },
  {
   "cell_type": "code",
   "execution_count": 6,
   "id": "575066a6-a7de-4fd8-9e74-8aa4dcafb3f5",
   "metadata": {},
   "outputs": [
    {
     "data": {
      "text/plain": [
       "count    1.154112e+06\n",
       "mean     1.916722e+01\n",
       "std      3.986922e+02\n",
       "min      1.666667e-02\n",
       "50%      1.340000e+01\n",
       "95%      4.725000e+01\n",
       "98%      6.613333e+01\n",
       "99%      9.030000e+01\n",
       "max      4.233710e+05\n",
       "Name: duration, dtype: float64"
      ]
     },
     "execution_count": 6,
     "metadata": {},
     "output_type": "execute_result"
    }
   ],
   "source": [
    "df_january[\"duration\"].describe(percentiles=[.95, .98, .99])"
   ]
  },
  {
   "cell_type": "code",
   "execution_count": 7,
   "id": "eaed3fc7-9bf8-468c-9fbc-0346a9126e74",
   "metadata": {},
   "outputs": [
    {
     "data": {
      "image/png": "[encoded data removed]",
      "text/plain": [
       "<Figure size 432x288 with 1 Axes>"
      ]
     },
     "metadata": {
      "needs_background": "light"
     },
     "output_type": "display_data"
    }
   ],
   "source": [
    "import seaborn as sns\n",
    "import matplotlib.pyplot as plt\n",
    "sns.distplot(df_january[\"duration\"], label='duration')\n",
    "plt.show()"
   ]
  },
  {
   "cell_type": "markdown",
   "id": "17631d6f-c6e3-48d1-b1b6-aea2ad3a29b1",
   "metadata": {},
   "source": [
    "### Filter based on duration :: in (1, 60 min) "
   ]
  },
  {
   "cell_type": "code",
   "execution_count": 8,
   "id": "fc992101-4930-4ef5-a7f9-f705c172106c",
   "metadata": {},
   "outputs": [
    {
     "data": {
      "text/plain": [
       "0.9616276409915155"
      ]
     },
     "execution_count": 8,
     "metadata": {},
     "output_type": "execute_result"
    }
   ],
   "source": [
    "((df_january[\"duration\"]>=1 ) & (df_january[\"duration\"]<=60 )).mean()"
   ]
  },
  {
   "cell_type": "code",
   "execution_count": 9,
   "id": "a53a08eb-3a2f-41d3-84e6-a112fc6eca16",
   "metadata": {},
   "outputs": [
    {
     "data": {
      "image/png": "[encoded data removed]",
      "text/plain": [
       "<Figure size 432x288 with 1 Axes>"
      ]
     },
     "metadata": {
      "needs_background": "light"
     },
     "output_type": "display_data"
    },
    {
     "name": "stdout",
     "output_type": "stream",
     "text": [
      "filtered_df_january shape (1109826, 8)\n"
     ]
    }
   ],
   "source": [
    "filtered_df_january = df_january[((df_january[\"duration\"]>=1 ) & (df_january[\"duration\"]<=60 ))]\n",
    "\n",
    "sns.distplot(filtered_df_january[\"duration\"], label='duration')\n",
    "plt.show()\n",
    "print(\"filtered_df_january shape\", filtered_df_january.shape)"
   ]
  },
  {
   "cell_type": "code",
   "execution_count": 10,
   "id": "58cc8d0b-858c-4c8a-bdce-3d0981d79879",
   "metadata": {},
   "outputs": [
    {
     "name": "stdout",
     "output_type": "stream",
     "text": [
      "we removed around 3.84 % of the initial data \n"
     ]
    }
   ],
   "source": [
    "print (f\"we removed around {100 * (1 - (1109826 / 1154112)):.2f} % of the initial data \")"
   ]
  },
  {
   "cell_type": "markdown",
   "id": "62b043c9-db23-44b1-a76e-c168827f5725",
   "metadata": {},
   "source": [
    "## Q3 Missing Values "
   ]
  },
  {
   "cell_type": "code",
   "execution_count": 11,
   "id": "1a90b648-1601-4c6f-8ed6-bf310a5c0d72",
   "metadata": {},
   "outputs": [
    {
     "data": {
      "text/plain": [
       "dispatching_base_num            0\n",
       "pickup_datetime                 0\n",
       "dropOff_datetime                0\n",
       "PUlocationID               927008\n",
       "DOlocationID               147907\n",
       "SR_Flag                   1109826\n",
       "Affiliated_base_number        773\n",
       "duration                        0\n",
       "dtype: int64"
      ]
     },
     "execution_count": 11,
     "metadata": {},
     "output_type": "execute_result"
    }
   ],
   "source": [
    "filtered_df_january.isnull().sum()"
   ]
  },
  {
   "cell_type": "code",
   "execution_count": 12,
   "id": "14161914-4a05-4748-b7f7-0adbe1cd5778",
   "metadata": {},
   "outputs": [
    {
     "data": {
      "text/plain": [
       "(1109826, 8)"
      ]
     },
     "execution_count": 12,
     "metadata": {},
     "output_type": "execute_result"
    }
   ],
   "source": [
    "filtered_df_january.shape"
   ]
  },
  {
   "cell_type": "code",
   "execution_count": 13,
   "id": "92247e58-a66f-4c51-b9e8-78ca49cd51e7",
   "metadata": {},
   "outputs": [
    {
     "data": {
      "text/html": [
       "<div>\n",
       "<style scoped>\n",
       "    .dataframe tbody tr th:only-of-type {\n",
       "        vertical-align: middle;\n",
       "    }\n",
       "\n",
       "    .dataframe tbody tr th {\n",
       "        vertical-align: top;\n",
       "    }\n",
       "\n",
       "    .dataframe thead th {\n",
       "        text-align: right;\n",
       "    }\n",
       "</style>\n",
       "<table border=\"1\" class=\"dataframe\">\n",
       "  <thead>\n",
       "    <tr style=\"text-align: right;\">\n",
       "      <th></th>\n",
       "      <th>dispatching_base_num</th>\n",
       "      <th>pickup_datetime</th>\n",
       "      <th>dropOff_datetime</th>\n",
       "      <th>PUlocationID</th>\n",
       "      <th>DOlocationID</th>\n",
       "      <th>SR_Flag</th>\n",
       "      <th>Affiliated_base_number</th>\n",
       "      <th>duration</th>\n",
       "    </tr>\n",
       "  </thead>\n",
       "  <tbody>\n",
       "    <tr>\n",
       "      <th>0</th>\n",
       "      <td>B00009</td>\n",
       "      <td>2021-01-01 00:27:00</td>\n",
       "      <td>2021-01-01 00:44:00</td>\n",
       "      <td>-1.0</td>\n",
       "      <td>-1.0</td>\n",
       "      <td>None</td>\n",
       "      <td>B00009</td>\n",
       "      <td>17.000000</td>\n",
       "    </tr>\n",
       "    <tr>\n",
       "      <th>1</th>\n",
       "      <td>B00009</td>\n",
       "      <td>2021-01-01 00:50:00</td>\n",
       "      <td>2021-01-01 01:07:00</td>\n",
       "      <td>-1.0</td>\n",
       "      <td>-1.0</td>\n",
       "      <td>None</td>\n",
       "      <td>B00009</td>\n",
       "      <td>17.000000</td>\n",
       "    </tr>\n",
       "    <tr>\n",
       "      <th>3</th>\n",
       "      <td>B00037</td>\n",
       "      <td>2021-01-01 00:13:09</td>\n",
       "      <td>2021-01-01 00:21:26</td>\n",
       "      <td>-1.0</td>\n",
       "      <td>72.0</td>\n",
       "      <td>None</td>\n",
       "      <td>B00037</td>\n",
       "      <td>8.283333</td>\n",
       "    </tr>\n",
       "    <tr>\n",
       "      <th>4</th>\n",
       "      <td>B00037</td>\n",
       "      <td>2021-01-01 00:38:31</td>\n",
       "      <td>2021-01-01 00:53:44</td>\n",
       "      <td>-1.0</td>\n",
       "      <td>61.0</td>\n",
       "      <td>None</td>\n",
       "      <td>B00037</td>\n",
       "      <td>15.216667</td>\n",
       "    </tr>\n",
       "    <tr>\n",
       "      <th>5</th>\n",
       "      <td>B00037</td>\n",
       "      <td>2021-01-01 00:59:02</td>\n",
       "      <td>2021-01-01 01:08:05</td>\n",
       "      <td>-1.0</td>\n",
       "      <td>71.0</td>\n",
       "      <td>None</td>\n",
       "      <td>B00037</td>\n",
       "      <td>9.050000</td>\n",
       "    </tr>\n",
       "  </tbody>\n",
       "</table>\n",
       "</div>"
      ],
      "text/plain": [
       "  dispatching_base_num     pickup_datetime    dropOff_datetime  PUlocationID  \\\n",
       "0               B00009 2021-01-01 00:27:00 2021-01-01 00:44:00          -1.0   \n",
       "1               B00009 2021-01-01 00:50:00 2021-01-01 01:07:00          -1.0   \n",
       "3               B00037 2021-01-01 00:13:09 2021-01-01 00:21:26          -1.0   \n",
       "4               B00037 2021-01-01 00:38:31 2021-01-01 00:53:44          -1.0   \n",
       "5               B00037 2021-01-01 00:59:02 2021-01-01 01:08:05          -1.0   \n",
       "\n",
       "   DOlocationID SR_Flag Affiliated_base_number   duration  \n",
       "0          -1.0    None                 B00009  17.000000  \n",
       "1          -1.0    None                 B00009  17.000000  \n",
       "3          72.0    None                 B00037   8.283333  \n",
       "4          61.0    None                 B00037  15.216667  \n",
       "5          71.0    None                 B00037   9.050000  "
      ]
     },
     "execution_count": 13,
     "metadata": {},
     "output_type": "execute_result"
    }
   ],
   "source": [
    "filtered_df_january[[\"PUlocationID\", \"DOlocationID\"]] = filtered_df_january[[\"PUlocationID\", \"DOlocationID\"]].fillna(-1)\n",
    "filtered_df_january.head()"
   ]
  },
  {
   "cell_type": "code",
   "execution_count": 14,
   "id": "f5115b55-2d18-4b70-b43d-a35729267c60",
   "metadata": {},
   "outputs": [
    {
     "name": "stdout",
     "output_type": "stream",
     "text": [
      "fraction of missing values in pickup location id is : 83.527%\n"
     ]
    }
   ],
   "source": [
    "print(f\"fraction of missing values in pickup location id is : {(927008 /1109826) *100 :.3f}%\")"
   ]
  },
  {
   "cell_type": "markdown",
   "id": "0fc5a871-1af4-4280-bf0d-cbb68e15654f",
   "metadata": {},
   "source": [
    "## Q4 One Hot encoding"
   ]
  },
  {
   "cell_type": "code",
   "execution_count": 17,
   "id": "8d8be571-605c-4bca-8c10-61a7831e4f63",
   "metadata": {},
   "outputs": [],
   "source": [
    "catgorical_columns = [\"PUlocationID\", \"DOlocationID\"]\n",
    "train_dicts = filtered_df_january[catgorical_columns].to_dict(orient=\"records\")"
   ]
  },
  {
   "cell_type": "code",
   "execution_count": 18,
   "id": "105ebd82-c9ca-4e1c-9945-91b8310c6a6a",
   "metadata": {},
   "outputs": [],
   "source": [
    "dv = DictVectorizer()\n",
    "X_train = dv.fit_transform(train_dicts)"
   ]
  },
  {
   "cell_type": "code",
   "execution_count": 19,
   "id": "5e57fe42-f574-4032-9f92-f634174b4983",
   "metadata": {},
   "outputs": [
    {
     "data": {
      "text/plain": [
       "(1109826, 2)"
      ]
     },
     "execution_count": 19,
     "metadata": {},
     "output_type": "execute_result"
    }
   ],
   "source": [
    "X_train.shape"
   ]
  },
  {
   "cell_type": "markdown",
   "id": "96e36da6-1e4d-4bec-ba61-39e9fe7cf3ae",
   "metadata": {},
   "source": [
    "## Q5 One Hot encoding"
   ]
  },
  {
   "cell_type": "code",
   "execution_count": 20,
   "id": "9ff944b4-c059-4b53-a9b0-1f632c822d25",
   "metadata": {},
   "outputs": [
    {
     "data": {
      "text/plain": [
       "array([17.        , 17.        ,  8.28333333, ..., 16.2       ,\n",
       "       19.43333333, 36.        ])"
      ]
     },
     "execution_count": 20,
     "metadata": {},
     "output_type": "execute_result"
    }
   ],
   "source": [
    "target = \"duration\"\n",
    "y_train = filtered_df_january[target].values\n",
    "y_train"
   ]
  },
  {
   "cell_type": "code",
   "execution_count": 22,
   "id": "8965803f-81d3-4b34-b368-8a2e87873274",
   "metadata": {},
   "outputs": [],
   "source": [
    "lr = LinearRegression()\n",
    "lr.fit(X_train, y_train)\n",
    "\n",
    "y_pred = lr.predict(X_train)"
   ]
  },
  {
   "cell_type": "markdown",
   "id": "0ea77ee5-3366-492a-9076-6a49742ed451",
   "metadata": {},
   "source": [
    "### Display target distribution "
   ]
  },
  {
   "cell_type": "code",
   "execution_count": 33,
   "id": "c34f993b-950d-4267-8d94-74bd895d16c2",
   "metadata": {},
   "outputs": [
    {
     "data": {
      "image/png": "[encoded data removed]",
      "text/plain": [
       "<Figure size 432x288 with 1 Axes>"
      ]
     },
     "metadata": {
      "needs_background": "light"
     },
     "output_type": "display_data"
    }
   ],
   "source": [
    "sns.distplot(y_train, label='ground_truth')\n",
    "sns.distplot(y_pred, label='predictions')\n",
    "plt.show()"
   ]
  },
  {
   "cell_type": "markdown",
   "id": "225a54c3-c998-499b-a8e9-fc8eded7ae51",
   "metadata": {
    "tags": []
   },
   "source": [
    "### Measure RMSE on train data "
   ]
  },
  {
   "cell_type": "code",
   "execution_count": 56,
   "id": "a6f6a47e-8219-4597-ba8e-7427eb364414",
   "metadata": {},
   "outputs": [
    {
     "data": {
      "text/plain": [
       "11.415432830521663"
      ]
     },
     "execution_count": 56,
     "metadata": {},
     "output_type": "execute_result"
    }
   ],
   "source": [
    "mean_squared_error(y_train, y_pred, squared=False)"
   ]
  },
  {
   "cell_type": "markdown",
   "id": "db0a1468-107b-4b80-80f0-ee6cf5cefadc",
   "metadata": {},
   "source": [
    "## Q6 - Evaluating a model on validation set - February "
   ]
  },
  {
   "cell_type": "code",
   "execution_count": 79,
   "id": "a0eb41f8-27b9-4a4d-926a-72b9a7dbeacf",
   "metadata": {},
   "outputs": [],
   "source": [
    "def get_data(path_to_data:str)->pd.DataFrame:\n",
    "    catgorical_columns = [\"PUlocationID\", \"DOlocationID\"]\n",
    "    df = pd.read_parquet(path_to_data, engine='pyarrow')\n",
    "    df.pickup_datetime = pd.to_datetime(df.pickup_datetime)\n",
    "    df.dropOff_datetime = pd.to_datetime(df.dropOff_datetime)\n",
    "    df[\"duration\"] = df.dropOff_datetime - df.pickup_datetime\n",
    "    df[\"duration\"] = df[\"duration\"].apply( lambda x: x.total_seconds() / 60)\n",
    "\n",
    "    print(\"average trip duration:\", df[\"duration\"].mean()) \n",
    "    df[catgorical_columns] = df[catgorical_columns].astype(str)\n",
    "    df_filtered = df[((df[\"duration\"]>=1 ) & (df[\"duration\"]<=60 ))]\n",
    "    \n",
    "    \n",
    "    df_filtered[catgorical_columns] = df_filtered[catgorical_columns].fillna(-1)\n",
    "    \n",
    "    return  df_filtered\n"
   ]
  },
  {
   "cell_type": "code",
   "execution_count": 80,
   "id": "6c1c78ac-ffc9-4b2c-8cf8-a17267b934bc",
   "metadata": {},
   "outputs": [
    {
     "name": "stdout",
     "output_type": "stream",
     "text": [
      "average trip duration: 19.167224093791006\n"
     ]
    },
    {
     "data": {
      "text/plain": [
       "(1109826, 8)"
      ]
     },
     "execution_count": 80,
     "metadata": {},
     "output_type": "execute_result"
    }
   ],
   "source": [
    "df_train = get_data(path_to_data=path_to_january_data)\n",
    "df_train.shape"
   ]
  },
  {
   "cell_type": "code",
   "execution_count": 81,
   "id": "67af719e-71cc-4634-876f-f288ab746eda",
   "metadata": {},
   "outputs": [],
   "source": [
    "dv = DictVectorizer()\n",
    "lr = LinearRegression()"
   ]
  },
  {
   "cell_type": "code",
   "execution_count": 82,
   "id": "406cc5ee-e95c-4cde-95f9-0b67791a7200",
   "metadata": {},
   "outputs": [],
   "source": [
    "data_dicts = df_train[catgorical_columns].to_dict(orient=\"records\")\n",
    "X_train = dv.fit_transform(data_dicts)\n",
    "y_train = df_train[target].values"
   ]
  },
  {
   "cell_type": "code",
   "execution_count": 83,
   "id": "0f0e0118-a734-4118-b4c9-080a2630ef92",
   "metadata": {},
   "outputs": [
    {
     "data": {
      "text/plain": [
       "(1109826, 525)"
      ]
     },
     "execution_count": 83,
     "metadata": {},
     "output_type": "execute_result"
    }
   ],
   "source": [
    "X_train.shape"
   ]
  },
  {
   "cell_type": "code",
   "execution_count": 84,
   "id": "1320c151-1134-4a6a-81c4-3b0ba15dd4ca",
   "metadata": {},
   "outputs": [
    {
     "data": {
      "text/plain": [
       "10.528519107205623"
      ]
     },
     "execution_count": 84,
     "metadata": {},
     "output_type": "execute_result"
    }
   ],
   "source": [
    "lr.fit(X_train, y_train)\n",
    "\n",
    "y_pred = lr.predict(X_train)\n",
    "mean_squared_error(y_train, y_pred, squared=False)"
   ]
  },
  {
   "cell_type": "code",
   "execution_count": 89,
   "id": "2867615f-50c8-49e3-bbf1-452b734b7e59",
   "metadata": {},
   "outputs": [
    {
     "data": {
      "image/png": "[encoded data removed]",
      "text/plain": [
       "<Figure size 432x288 with 1 Axes>"
      ]
     },
     "metadata": {
      "needs_background": "light"
     },
     "output_type": "display_data"
    }
   ],
   "source": [
    "sns.distplot(y_train, label='ground_truth')\n",
    "sns.distplot(y_pred, label='predictions')\n",
    "plt.show()"
   ]
  },
  {
   "cell_type": "markdown",
   "id": "fdd41c6d-e2d7-49a3-8217-32d43ed00c84",
   "metadata": {},
   "source": [
    "\n",
    "### Validation dataset"
   ]
  },
  {
   "cell_type": "code",
   "execution_count": 85,
   "id": "426637ba-7b5d-4939-a753-08ada14be63f",
   "metadata": {},
   "outputs": [
    {
     "name": "stdout",
     "output_type": "stream",
     "text": [
      "average trip duration: 20.706986225199763\n"
     ]
    },
    {
     "data": {
      "text/plain": [
       "(990113, 8)"
      ]
     },
     "execution_count": 85,
     "metadata": {},
     "output_type": "execute_result"
    }
   ],
   "source": [
    "df_validation = get_data(path_to_data=path_to_february_data)\n",
    "df_validation.shape"
   ]
  },
  {
   "cell_type": "code",
   "execution_count": 86,
   "id": "910a0d4a-2028-4fb8-8239-7dd0fb9aef5e",
   "metadata": {},
   "outputs": [],
   "source": [
    "data_dicts = df_validation[catgorical_columns].to_dict(orient=\"records\")\n",
    "X_val = dv.transform(data_dicts)\n",
    "y_val = df_validation[target].values"
   ]
  },
  {
   "cell_type": "code",
   "execution_count": 87,
   "id": "541a805d-3e20-45a6-a5ce-3f431c61b47e",
   "metadata": {},
   "outputs": [
    {
     "data": {
      "text/plain": [
       "11.014283143215204"
      ]
     },
     "execution_count": 87,
     "metadata": {},
     "output_type": "execute_result"
    }
   ],
   "source": [
    "y_pred_val = lr.predict(X_val)\n",
    "mean_squared_error(y_pred_val, y_val, squared=False)"
   ]
  },
  {
   "cell_type": "code",
   "execution_count": 88,
   "id": "8dcce766-7517-4465-8b0e-6ab9d75e8bf0",
   "metadata": {},
   "outputs": [
    {
     "data": {
      "image/png": "[encoded data removed]",
      "text/plain": [
       "<Figure size 432x288 with 1 Axes>"
      ]
     },
     "metadata": {
      "needs_background": "light"
     },
     "output_type": "display_data"
    }
   ],
   "source": [
    "sns.distplot(y_val, label='ground_truth')\n",
    "sns.distplot(y_pred_val, label='predictions')\n",
    "plt.show()"
   ]
  }
 ],
 "metadata": {
  "kernelspec": {
   "display_name": "Python 3 (ipykernel)",
   "language": "python",
   "name": "python3"
  },
  "language_info": {
   "codemirror_mode": {
    "name": "ipython",
    "version": 3
   },
   "file_extension": ".py",
   "mimetype": "text/x-python",
   "name": "python",
   "nbconvert_exporter": "python",
   "pygments_lexer": "ipython3",
   "version": "3.9.10"
  }
 },
 "nbformat": 4,
 "nbformat_minor": 5
}
